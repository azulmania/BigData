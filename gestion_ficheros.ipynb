{
 "cells": [
  {
   "cell_type": "code",
   "execution_count": null,
   "metadata": {},
   "outputs": [],
   "source": [
    "def obtener_items_fichero(origen='tareas.dat', separador = \",\"):\n",
    "    try:\n",
    "        items = []\n",
    "        with open(origen) as f_items:\n",
    "            for item in f_items:\n",
    "                items.append(item.rstrip().split(separador)\n",
    "        return items\n",
    "    except:\n",
    "        print(\"PRoblemas en el paraiso\")\n",
    "    finally:\n",
    "        f_data.close()\n",
    "        print(\"Fin\")"
   ]
  }
 ],
 "metadata": {
  "kernelspec": {
   "display_name": "Python 3",
   "language": "python",
   "name": "python3"
  },
  "language_info": {
   "codemirror_mode": {
    "name": "ipython",
    "version": 3
   },
   "file_extension": ".py",
   "mimetype": "text/x-python",
   "name": "python",
   "nbconvert_exporter": "python",
   "pygments_lexer": "ipython3",
   "version": "3.7.4"
  }
 },
 "nbformat": 4,
 "nbformat_minor": 2
}
