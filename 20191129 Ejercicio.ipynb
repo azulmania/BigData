{
 "cells": [
  {
   "cell_type": "code",
   "execution_count": 33,
   "metadata": {},
   "outputs": [],
   "source": [
    "class Alumno:\n",
    "    \n",
    "    def __init__(self, nombre, dni, nota):\n",
    "        self._nombre = nombre\n",
    "        self._dni = dni\n",
    "        self._nota = nota\n",
    "        \n",
    "    @property\n",
    "    def nombre(self):\n",
    "        return self._nombre\n",
    "    \n",
    "    @property\n",
    "    def dni(self):\n",
    "        return self._dni\n",
    "    \n",
    "    @property\n",
    "    def nota(self):\n",
    "        return self._nota\n",
    "    \n",
    "    def __str__(self):\n",
    "        return f\"Alumno {self._nombre} con dni {self._dni}, nota: {self._nota}\"\n",
    "    \n",
    "    def __repr__(self):\n",
    "        return f\"Alumno {self._nombre} con dni {self._dni}, nota: {self._nota}\""
   ]
  },
  {
   "cell_type": "code",
   "execution_count": 34,
   "metadata": {},
   "outputs": [],
   "source": [
    "class Clase:\n",
    "    \n",
    "    def __init__(self, nombre, alumnos, horario):\n",
    "        self._nombre = nombre\n",
    "        self._alumnos = alumnos\n",
    "        self._horario = horario\n",
    "    \n",
    "    @property\n",
    "    def nombre(self):\n",
    "        return self._nombre\n",
    "    \n",
    "    @property\n",
    "    def alumnos(self):\n",
    "        return self._alumnos\n",
    "        \n",
    "    @alumnos.setter\n",
    "    def alumnos(self, alumnos):\n",
    "        self._alumnos=alumnos\n",
    "    \n",
    "    @property\n",
    "    def horario(self):\n",
    "        return self._horario\n",
    "    \n",
    "    def __str__(self):\n",
    "        return f\"Clase {self._nombre} con {self._alumnos} alumnos con horario {self._horario}\"\n",
    "    \n",
    "    def __repr__(self):\n",
    "        return f\"Clase {self._nombre} con {self._alumnos} alumnos con horario {self._horario}\"\n"
   ]
  },
  {
   "cell_type": "code",
   "execution_count": 35,
   "metadata": {},
   "outputs": [],
   "source": [
    "clase = Clase(\"Big data\", 20, \"Viernes 16-21, Sabado 9-14\")"
   ]
  },
  {
   "cell_type": "code",
   "execution_count": 9,
   "metadata": {},
   "outputs": [
    {
     "data": {
      "text/plain": [
       "Clase Big data con 20 alumnos con horario Viernes 16-21, Sabado 9-14"
      ]
     },
     "execution_count": 9,
     "metadata": {},
     "output_type": "execute_result"
    }
   ],
   "source": [
    "clase"
   ]
  },
  {
   "cell_type": "code",
   "execution_count": 36,
   "metadata": {},
   "outputs": [],
   "source": [
    "alumno_jl = Alumno(\"Jose Luis\", \"123456F\", \"NP\")"
   ]
  },
  {
   "cell_type": "code",
   "execution_count": 18,
   "metadata": {},
   "outputs": [
    {
     "data": {
      "text/plain": [
       "Alumno Jose Luis con dni 123456F, nota: NP"
      ]
     },
     "execution_count": 18,
     "metadata": {},
     "output_type": "execute_result"
    }
   ],
   "source": [
    "alumno_jl"
   ]
  },
  {
   "cell_type": "code",
   "execution_count": 37,
   "metadata": {},
   "outputs": [],
   "source": [
    "alumnos = [alumno_jl, Alumno(\"Miguel Angel\", \"6543214F\", \"1\")]"
   ]
  },
  {
   "cell_type": "code",
   "execution_count": 38,
   "metadata": {},
   "outputs": [
    {
     "data": {
      "text/plain": [
       "[Alumno Jose Luis con dni 123456F, nota: NP,\n",
       " Alumno Miguel Angel con dni 6543214F, nota: 1]"
      ]
     },
     "execution_count": 38,
     "metadata": {},
     "output_type": "execute_result"
    }
   ],
   "source": [
    "alumnos"
   ]
  },
  {
   "cell_type": "code",
   "execution_count": 39,
   "metadata": {},
   "outputs": [],
   "source": [
    "alumnos.append(Alumno(\"Juan Perez\", \"111111C\", \"10\"))"
   ]
  },
  {
   "cell_type": "code",
   "execution_count": 22,
   "metadata": {},
   "outputs": [
    {
     "data": {
      "text/plain": [
       "[Alumno Jose Luis con dni 123456F, nota: NP,\n",
       " Alumno Miguel Angel con dni 6543214F, nota: 1,\n",
       " Alumno Juan Perez con dni 111111C, nota: 10]"
      ]
     },
     "execution_count": 22,
     "metadata": {},
     "output_type": "execute_result"
    }
   ],
   "source": [
    "alumnos"
   ]
  },
  {
   "cell_type": "code",
   "execution_count": 40,
   "metadata": {},
   "outputs": [],
   "source": [
    "clase = Clase(\"Big data\", alumnos, \"Viernes 16-21, Sabado 9-14\")"
   ]
  },
  {
   "cell_type": "code",
   "execution_count": 24,
   "metadata": {},
   "outputs": [
    {
     "data": {
      "text/plain": [
       "Clase Big data con [Alumno Jose Luis con dni 123456F, nota: NP, Alumno Miguel Angel con dni 6543214F, nota: 1, Alumno Juan Perez con dni 111111C, nota: 10] alumnos con horario Viernes 16-21, Sabado 9-14"
      ]
     },
     "execution_count": 24,
     "metadata": {},
     "output_type": "execute_result"
    }
   ],
   "source": [
    "clase"
   ]
  },
  {
   "cell_type": "code",
   "execution_count": 25,
   "metadata": {},
   "outputs": [],
   "source": [
    "def a_nota(nota):\n",
    "    if nota == \"NP\":\n",
    "        return 0\n",
    "    return int(nota)"
   ]
  },
  {
   "cell_type": "code",
   "execution_count": 28,
   "metadata": {},
   "outputs": [
    {
     "data": {
      "text/plain": [
       "int"
      ]
     },
     "execution_count": 28,
     "metadata": {},
     "output_type": "execute_result"
    }
   ],
   "source": [
    "type(a_nota(\"NP\"))"
   ]
  },
  {
   "cell_type": "code",
   "execution_count": 29,
   "metadata": {},
   "outputs": [],
   "source": [
    "lambda_alumnos_buenos = lambda a:a_nota(a.nota)>8"
   ]
  },
  {
   "cell_type": "code",
   "execution_count": 41,
   "metadata": {},
   "outputs": [],
   "source": [
    "lista_alumnos_buenos = list(filter(lambda_alumnos_buenos, clase.alumnos))"
   ]
  },
  {
   "cell_type": "code",
   "execution_count": 42,
   "metadata": {},
   "outputs": [
    {
     "data": {
      "text/plain": [
       "[Alumno Juan Perez con dni 111111C, nota: 10]"
      ]
     },
     "execution_count": 42,
     "metadata": {},
     "output_type": "execute_result"
    }
   ],
   "source": [
    "lista_alumnos_buenos"
   ]
  },
  {
   "cell_type": "code",
   "execution_count": 45,
   "metadata": {},
   "outputs": [],
   "source": [
    "def incrementar_nota(alumno, incremento):\n",
    "    alumno.nota(alumno.nota + incremento)\n",
    "    return Alumno(nombre, dni, nota)\n",
    "    "
   ]
  },
  {
   "cell_type": "code",
   "execution_count": null,
   "metadata": {},
   "outputs": [],
   "source": []
  }
 ],
 "metadata": {
  "kernelspec": {
   "display_name": "Python 3",
   "language": "python",
   "name": "python3"
  },
  "language_info": {
   "codemirror_mode": {
    "name": "ipython",
    "version": 3
   },
   "file_extension": ".py",
   "mimetype": "text/x-python",
   "name": "python",
   "nbconvert_exporter": "python",
   "pygments_lexer": "ipython3",
   "version": "3.7.4"
  }
 },
 "nbformat": 4,
 "nbformat_minor": 2
}
