{
 "cells": [
  {
   "cell_type": "code",
   "execution_count": 28,
   "metadata": {},
   "outputs": [],
   "source": [
    "# Otra forma de crear RDD no tan habitual pero si interesante de conocer.\n",
    "concursantes = [(1, 'Wey', 13, 88),\n",
    "                (2, 'Eu', 12, 66),\n",
    "                (3, 'Angel', 11, 55),\n",
    "                (4, 'Azul', 11, 44),\n",
    "                (5, 'Gatito', 11, 33),\n",
    "               ]"
   ]
  },
  {
   "cell_type": "code",
   "execution_count": 33,
   "metadata": {},
   "outputs": [
    {
     "data": {
      "text/plain": [
       "[(1, 'Wey', 13, 88),\n",
       " (2, 'Eu', 12, 66),\n",
       " (3, 'Angel', 11, 55),\n",
       " (4, 'Azul', 11, 44),\n",
       " (5, 'Gatito', 11, 33)]"
      ]
     },
     "execution_count": 33,
     "metadata": {},
     "output_type": "execute_result"
    }
   ],
   "source": [
    "concursantes"
   ]
  },
  {
   "cell_type": "code",
   "execution_count": 34,
   "metadata": {},
   "outputs": [],
   "source": [
    "concursantes_RDD = sc.parallelize(concursantes)"
   ]
  },
  {
   "cell_type": "code",
   "execution_count": 4,
   "metadata": {},
   "outputs": [
    {
     "data": {
      "text/plain": [
       "[(1, 'Wey', 13, 88), (1, 'Eu', 12, 66)]"
      ]
     },
     "execution_count": 4,
     "metadata": {},
     "output_type": "execute_result"
    }
   ],
   "source": [
    "concursantes_RDD.take(2)"
   ]
  },
  {
   "cell_type": "code",
   "execution_count": 13,
   "metadata": {},
   "outputs": [],
   "source": [
    "from pyspark.sql.types import *"
   ]
  },
  {
   "cell_type": "code",
   "execution_count": 54,
   "metadata": {},
   "outputs": [],
   "source": [
    "esquema = StructType([\n",
    "    StructField(\"id\", LongType(), True),\n",
    "    StructField(\"nombre\", StringType(), True),\n",
    "    StructField(\"nivel\", LongType(), True),\n",
    "    StructField(\"victorias\", LongType(), True),\n",
    "])"
   ]
  },
  {
   "cell_type": "code",
   "execution_count": null,
   "metadata": {},
   "outputs": [],
   "source": [
    "concursantes_DF = spark.createDataFrame(concursantes_RDD)"
   ]
  },
  {
   "cell_type": "code",
   "execution_count": 55,
   "metadata": {},
   "outputs": [],
   "source": [
    "concursantes_DF = spark.createDataFrame(concursantes_RDD, esquema)"
   ]
  },
  {
   "cell_type": "code",
   "execution_count": 56,
   "metadata": {},
   "outputs": [
    {
     "data": {
      "text/plain": [
       "DataFrame[summary: string, id: string, nombre: string, nivel: string, victorias: string]"
      ]
     },
     "execution_count": 56,
     "metadata": {},
     "output_type": "execute_result"
    }
   ],
   "source": [
    "concursantes_DF.describe()"
   ]
  },
  {
   "cell_type": "code",
   "execution_count": 59,
   "metadata": {},
   "outputs": [
    {
     "name": "stdout",
     "output_type": "stream",
     "text": [
      "root\n",
      " |-- id: long (nullable = true)\n",
      " |-- nombre: string (nullable = true)\n",
      " |-- nivel: long (nullable = true)\n",
      " |-- victorias: long (nullable = true)\n",
      "\n"
     ]
    }
   ],
   "source": [
    "concursantes_DF.printSchema()"
   ]
  },
  {
   "cell_type": "code",
   "execution_count": 60,
   "metadata": {},
   "outputs": [],
   "source": [
    "concursantes_DF.createOrReplaceTempView('concursantes')"
   ]
  },
  {
   "cell_type": "code",
   "execution_count": 39,
   "metadata": {},
   "outputs": [
    {
     "data": {
      "text/plain": [
       "[(1, 'Wey', 13, 88),\n",
       " (2, 'Eu', 12, 66),\n",
       " (3, 'Angel', 11, 55),\n",
       " (4, 'Azul', 11, 44),\n",
       " (5, 'Gatito', 11, 33)]"
      ]
     },
     "execution_count": 39,
     "metadata": {},
     "output_type": "execute_result"
    }
   ],
   "source": [
    "concursantes"
   ]
  },
  {
   "cell_type": "code",
   "execution_count": 61,
   "metadata": {},
   "outputs": [
    {
     "data": {
      "text/plain": [
       "DataFrame[id: bigint, nombre: string, nivel: bigint, victorias: bigint]"
      ]
     },
     "execution_count": 61,
     "metadata": {},
     "output_type": "execute_result"
    }
   ],
   "source": [
    "spark.sql(\"SELECT * FROM concursantes\")"
   ]
  },
  {
   "cell_type": "code",
   "execution_count": 62,
   "metadata": {},
   "outputs": [],
   "source": [
    "concursantes_todos_DF = spark.sql(\"SELECT * FROM concursantes\")"
   ]
  },
  {
   "cell_type": "code",
   "execution_count": 63,
   "metadata": {},
   "outputs": [
    {
     "name": "stdout",
     "output_type": "stream",
     "text": [
      "+---+------+-----+---------+\n",
      "| id|nombre|nivel|victorias|\n",
      "+---+------+-----+---------+\n",
      "|  1|   Wey|   13|       88|\n",
      "|  2|    Eu|   12|       66|\n",
      "|  3| Angel|   11|       55|\n",
      "|  4|  Azul|   11|       44|\n",
      "|  5|Gatito|   11|       33|\n",
      "+---+------+-----+---------+\n",
      "\n"
     ]
    }
   ],
   "source": [
    "concursantes_todos_DF.show()"
   ]
  },
  {
   "cell_type": "code",
   "execution_count": 66,
   "metadata": {},
   "outputs": [],
   "source": [
    "concursantes_buenos_DF = spark.sql(\"SELECT * FROM concursantes where nivel>11\")"
   ]
  },
  {
   "cell_type": "code",
   "execution_count": 67,
   "metadata": {},
   "outputs": [
    {
     "name": "stdout",
     "output_type": "stream",
     "text": [
      "+---+------+-----+---------+\n",
      "| id|nombre|nivel|victorias|\n",
      "+---+------+-----+---------+\n",
      "|  1|   Wey|   13|       88|\n",
      "|  2|    Eu|   12|       66|\n",
      "+---+------+-----+---------+\n",
      "\n"
     ]
    }
   ],
   "source": [
    "concursantes_buenos_DF.show()"
   ]
  },
  {
   "cell_type": "code",
   "execution_count": 68,
   "metadata": {},
   "outputs": [
    {
     "data": {
      "text/plain": [
       "DataFrame[id: bigint, nombre: string, nivel: bigint, victorias: bigint]"
      ]
     },
     "execution_count": 68,
     "metadata": {},
     "output_type": "execute_result"
    }
   ],
   "source": [
    "concursantes_buenos_DF.cache()"
   ]
  },
  {
   "cell_type": "code",
   "execution_count": 71,
   "metadata": {},
   "outputs": [
    {
     "name": "stdout",
     "output_type": "stream",
     "text": [
      "+------+\n",
      "|nombre|\n",
      "+------+\n",
      "|   Wey|\n",
      "|    Eu|\n",
      "+------+\n",
      "\n"
     ]
    }
   ],
   "source": [
    "#Dataframe API\n",
    "concursantes_todos_DF.select(\"nombre\").filter(\"nivel>11\").show()"
   ]
  },
  {
   "cell_type": "code",
   "execution_count": 77,
   "metadata": {},
   "outputs": [
    {
     "name": "stdout",
     "output_type": "stream",
     "text": [
      "+------+-----+\n",
      "|nombre|nivel|\n",
      "+------+-----+\n",
      "|   Wey|   13|\n",
      "|    Eu|   12|\n",
      "+------+-----+\n",
      "\n"
     ]
    }
   ],
   "source": [
    "concursantes_todos_DF.select(\"nombre\",\"nivel\").filter(\"nivel>11 and nivel<=13\").show()"
   ]
  },
  {
   "cell_type": "code",
   "execution_count": 79,
   "metadata": {},
   "outputs": [
    {
     "name": "stdout",
     "output_type": "stream",
     "text": [
      "+------+-----+\n",
      "|nombre|nivel|\n",
      "+------+-----+\n",
      "|   Wey|   13|\n",
      "|    Eu|   12|\n",
      "+------+-----+\n",
      "\n"
     ]
    }
   ],
   "source": [
    "spark.sql(\"select nombre, nivel from concursantes where nivel between 12 and 13\").show()"
   ]
  },
  {
   "cell_type": "code",
   "execution_count": null,
   "metadata": {},
   "outputs": [],
   "source": []
  }
 ],
 "metadata": {
  "kernelspec": {
   "display_name": "Python 3",
   "language": "python",
   "name": "python3"
  },
  "language_info": {
   "codemirror_mode": {
    "name": "ipython",
    "version": 3
   },
   "file_extension": ".py",
   "mimetype": "text/x-python",
   "name": "python",
   "nbconvert_exporter": "python",
   "pygments_lexer": "ipython3",
   "version": "3.7.4"
  }
 },
 "nbformat": 4,
 "nbformat_minor": 2
}
