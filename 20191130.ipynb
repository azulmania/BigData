{
 "cells": [
  {
   "cell_type": "code",
   "execution_count": 17,
   "metadata": {},
   "outputs": [],
   "source": [
    "class Persona:\n",
    "    \n",
    "    def __init__(self, dni, nombre):\n",
    "        self._dni = dni\n",
    "        self._nombre = nombre\n",
    "        \n",
    "    @property\n",
    "    def dni(self):\n",
    "        return self._dni\n",
    "    \n",
    "    @property\n",
    "    def nombre(self):\n",
    "        return self._nombre\n",
    "    \n",
    "    \n",
    "        "
   ]
  },
  {
   "cell_type": "code",
   "execution_count": 22,
   "metadata": {},
   "outputs": [],
   "source": [
    "class Alumno(Persona):\n",
    "    \n",
    "    def __init__(self, dni, nombre):\n",
    "        super().__init__(dni, nombre)\n",
    "        self._nota = 0.0\n",
    "    \n",
    "    @property\n",
    "    def nota(self):\n",
    "        return self._nota\n",
    "    \n",
    "    @nota.setter\n",
    "    def nota(self, nota):\n",
    "        self._nota = nota\n",
    "        \n",
    "    @property\n",
    "    def aprobado(self):\n",
    "        return self._nota >= 7.0\n",
    "    \n",
    "    def examinar(self, examen):\n",
    "        if examen is None: return\n",
    "        self._nota = examen.resolver()\n",
    "        \n",
    "    \n"
   ]
  },
  {
   "cell_type": "code",
   "execution_count": 5,
   "metadata": {},
   "outputs": [],
   "source": [
    "class Examen:\n",
    "    \n",
    "    def __init__(self):\n",
    "        pass\n",
    "        \n",
    "    def resolver(self):\n",
    "        print(\"Sacando la chuleta... \")\n",
    "        return 7.0"
   ]
  },
  {
   "cell_type": "code",
   "execution_count": 23,
   "metadata": {},
   "outputs": [],
   "source": [
    "maria = Alumno(\"123456H\", \"Maria\")"
   ]
  },
  {
   "cell_type": "code",
   "execution_count": 24,
   "metadata": {},
   "outputs": [
    {
     "data": {
      "text/plain": [
       "'Maria'"
      ]
     },
     "execution_count": 24,
     "metadata": {},
     "output_type": "execute_result"
    }
   ],
   "source": [
    "maria.nombre"
   ]
  },
  {
   "cell_type": "code",
   "execution_count": 26,
   "metadata": {},
   "outputs": [
    {
     "name": "stdout",
     "output_type": "stream",
     "text": [
      "Maria es una burra!\n"
     ]
    }
   ],
   "source": [
    "if maria.aprobado:\n",
    "    print(f\"{maria.nombre} ha aprobado\")\n",
    "else:\n",
    "    print(f\"{maria.nombre} es una burra!\")"
   ]
  },
  {
   "cell_type": "code",
   "execution_count": 10,
   "metadata": {},
   "outputs": [],
   "source": [
    "cloudera = Examen()"
   ]
  },
  {
   "cell_type": "code",
   "execution_count": 11,
   "metadata": {},
   "outputs": [
    {
     "name": "stdout",
     "output_type": "stream",
     "text": [
      "Sacando la chuleta... \n"
     ]
    }
   ],
   "source": [
    "maria.examinar(cloudera)"
   ]
  },
  {
   "cell_type": "code",
   "execution_count": 12,
   "metadata": {},
   "outputs": [
    {
     "data": {
      "text/plain": [
       "True"
      ]
     },
     "execution_count": 12,
     "metadata": {},
     "output_type": "execute_result"
    }
   ],
   "source": [
    "maria.aprobado"
   ]
  },
  {
   "cell_type": "code",
   "execution_count": null,
   "metadata": {},
   "outputs": [],
   "source": []
  }
 ],
 "metadata": {
  "kernelspec": {
   "display_name": "Python 3",
   "language": "python",
   "name": "python3"
  },
  "language_info": {
   "codemirror_mode": {
    "name": "ipython",
    "version": 3
   },
   "file_extension": ".py",
   "mimetype": "text/x-python",
   "name": "python",
   "nbconvert_exporter": "python",
   "pygments_lexer": "ipython3",
   "version": "3.7.4"
  }
 },
 "nbformat": 4,
 "nbformat_minor": 2
}
