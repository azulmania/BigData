{
 "cells": [
  {
   "cell_type": "code",
   "execution_count": 13,
   "metadata": {},
   "outputs": [],
   "source": [
    "items = [\"Tarea 0\", 'Tarea 1', 'Tarea 2', \"Tarea 3\"]"
   ]
  },
  {
   "cell_type": "code",
   "execution_count": 73,
   "metadata": {},
   "outputs": [],
   "source": [
    "def buscar_tarea(tarea, items):\n",
    "    for item in items:\n",
    "        if tarea == item:\n",
    "            #print(f\"Alegrate!, la tarea {} si que esta\", tarea)\n",
    "            return True\n",
    "    # print(f\"Pues no he encontrado la tarea {} :_(\", tarea)\n",
    "    return False"
   ]
  },
  {
   "cell_type": "code",
   "execution_count": 74,
   "metadata": {},
   "outputs": [
    {
     "name": "stdout",
     "output_type": "stream",
     "text": [
      "La tarea esta? False\n",
      "Hurra!\n",
      "Fin\n"
     ]
    }
   ],
   "source": [
    "try:\n",
    "    esta = buscar_tarea('Tarea 11', items)\n",
    "    print(\"La tarea esta? \" + str(esta))\n",
    "except:\n",
    "    print('No pude hacerlo')\n",
    "else:\n",
    "    print('Hurra!')\n",
    "finally:\n",
    "    print(\"Fin\")"
   ]
  },
  {
   "cell_type": "code",
   "execution_count": 2,
   "metadata": {},
   "outputs": [
    {
     "data": {
      "text/plain": [
       "list"
      ]
     },
     "execution_count": 2,
     "metadata": {},
     "output_type": "execute_result"
    }
   ],
   "source": [
    "type(items)"
   ]
  },
  {
   "cell_type": "code",
   "execution_count": 66,
   "metadata": {},
   "outputs": [
    {
     "name": "stdout",
     "output_type": "stream",
     "text": [
      "Tarea 0\n",
      "Tarea 1\n",
      "Tarea 2\n",
      "Tarea 3\n",
      "Tarea 4\n",
      "Tarea 5\n",
      "Tarea 6\n",
      "Tarea 7\n",
      "Tarea 8\n",
      "Tarea 9\n"
     ]
    }
   ],
   "source": [
    "if len(items)>0:\n",
    "    for item in items:\n",
    "        print(item)"
   ]
  },
  {
   "cell_type": "code",
   "execution_count": 64,
   "metadata": {},
   "outputs": [],
   "source": [
    "items = [\"\"] *10\n",
    "for i in range(0,10):\n",
    "    items[i] = \"Tarea \" + str(i)"
   ]
  },
  {
   "cell_type": "code",
   "execution_count": 65,
   "metadata": {},
   "outputs": [
    {
     "ename": "TypeError",
     "evalue": "buscar_tarea() missing 2 required positional arguments: 'tarea' and 'items'",
     "output_type": "error",
     "traceback": [
      "\u001b[0;31m---------------------------------------------------------------------------\u001b[0m",
      "\u001b[0;31mTypeError\u001b[0m                                 Traceback (most recent call last)",
      "\u001b[0;32m<ipython-input-65-bee6992822ab>\u001b[0m in \u001b[0;36m<module>\u001b[0;34m\u001b[0m\n\u001b[0;32m----> 1\u001b[0;31m \u001b[0mbuscar_tarea\u001b[0m\u001b[0;34m(\u001b[0m\u001b[0;34m)\u001b[0m\u001b[0;34m\u001b[0m\u001b[0;34m\u001b[0m\u001b[0m\n\u001b[0m",
      "\u001b[0;31mTypeError\u001b[0m: buscar_tarea() missing 2 required positional arguments: 'tarea' and 'items'"
     ]
    }
   ],
   "source": [
    "buscar_tarea()"
   ]
  },
  {
   "cell_type": "code",
   "execution_count": 75,
   "metadata": {},
   "outputs": [
    {
     "ename": "NameError",
     "evalue": "name 'date' is not defined",
     "output_type": "error",
     "traceback": [
      "\u001b[0;31m---------------------------------------------------------------------------\u001b[0m",
      "\u001b[0;31mNameError\u001b[0m                                 Traceback (most recent call last)",
      "\u001b[0;32m<ipython-input-75-00a2c5e89627>\u001b[0m in \u001b[0;36m<module>\u001b[0;34m\u001b[0m\n\u001b[0;32m----> 1\u001b[0;31m \u001b[0mdate\u001b[0m\u001b[0;34m.\u001b[0m\u001b[0mtoday\u001b[0m\u001b[0;34m(\u001b[0m\u001b[0;34m)\u001b[0m\u001b[0;34m\u001b[0m\u001b[0;34m\u001b[0m\u001b[0m\n\u001b[0m",
      "\u001b[0;31mNameError\u001b[0m: name 'date' is not defined"
     ]
    }
   ],
   "source": [
    "date.today()"
   ]
  },
  {
   "cell_type": "code",
   "execution_count": 76,
   "metadata": {},
   "outputs": [],
   "source": [
    " import datetime"
   ]
  },
  {
   "cell_type": "code",
   "execution_count": 77,
   "metadata": {},
   "outputs": [
    {
     "ename": "NameError",
     "evalue": "name 'date' is not defined",
     "output_type": "error",
     "traceback": [
      "\u001b[0;31m---------------------------------------------------------------------------\u001b[0m",
      "\u001b[0;31mNameError\u001b[0m                                 Traceback (most recent call last)",
      "\u001b[0;32m<ipython-input-77-00a2c5e89627>\u001b[0m in \u001b[0;36m<module>\u001b[0;34m\u001b[0m\n\u001b[0;32m----> 1\u001b[0;31m \u001b[0mdate\u001b[0m\u001b[0;34m.\u001b[0m\u001b[0mtoday\u001b[0m\u001b[0;34m(\u001b[0m\u001b[0;34m)\u001b[0m\u001b[0;34m\u001b[0m\u001b[0;34m\u001b[0m\u001b[0m\n\u001b[0m",
      "\u001b[0;31mNameError\u001b[0m: name 'date' is not defined"
     ]
    }
   ],
   "source": [
    "date.today()"
   ]
  },
  {
   "cell_type": "code",
   "execution_count": 79,
   "metadata": {},
   "outputs": [],
   "source": [
    "from datetime import date"
   ]
  },
  {
   "cell_type": "code",
   "execution_count": 80,
   "metadata": {},
   "outputs": [
    {
     "data": {
      "text/plain": [
       "datetime.date(2019, 11, 23)"
      ]
     },
     "execution_count": 80,
     "metadata": {},
     "output_type": "execute_result"
    }
   ],
   "source": [
    "date.today()"
   ]
  },
  {
   "cell_type": "code",
   "execution_count": 81,
   "metadata": {},
   "outputs": [],
   "source": [
    "hoy = date.today()"
   ]
  },
  {
   "cell_type": "code",
   "execution_count": 82,
   "metadata": {},
   "outputs": [
    {
     "data": {
      "text/plain": [
       "23"
      ]
     },
     "execution_count": 82,
     "metadata": {},
     "output_type": "execute_result"
    }
   ],
   "source": [
    "hoy.day"
   ]
  },
  {
   "cell_type": "code",
   "execution_count": 83,
   "metadata": {},
   "outputs": [],
   "source": [
    "## Crear coleccion de tareas con tareas acompanyadas del dia de mes donde se han asignado"
   ]
  },
  {
   "cell_type": "code",
   "execution_count": 162,
   "metadata": {},
   "outputs": [],
   "source": [
    "def genera_tareas(n):\n",
    "    tareas = []\n",
    "    for i in range(0,n):\n",
    "        tareas.append((\"Tarea \" + str(i), date.today().day))\n",
    "    return tareas"
   ]
  },
  {
   "cell_type": "code",
   "execution_count": 89,
   "metadata": {},
   "outputs": [],
   "source": [
    "def imprime(items):\n",
    "    for item in items:\n",
    "        print(item)"
   ]
  },
  {
   "cell_type": "code",
   "execution_count": 94,
   "metadata": {},
   "outputs": [
    {
     "name": "stdout",
     "output_type": "stream",
     "text": [
      "('Tarea 0', 23)\n",
      "('Tarea 1', 23)\n",
      "('Tarea 2', 23)\n",
      "('Tarea 3', 23)\n",
      "('Tarea 4', 23)\n",
      "('Tarea 5', 23)\n",
      "('Tarea 6', 23)\n",
      "('Tarea 7', 23)\n",
      "('Tarea 8', 23)\n",
      "('Tarea 9', 23)\n"
     ]
    }
   ],
   "source": [
    "imprime(tareas_tiempo)"
   ]
  },
  {
   "cell_type": "code",
   "execution_count": 93,
   "metadata": {},
   "outputs": [
    {
     "data": {
      "text/plain": [
       "10"
      ]
     },
     "execution_count": 93,
     "metadata": {},
     "output_type": "execute_result"
    }
   ],
   "source": [
    "len(tareas_tiempo)"
   ]
  },
  {
   "cell_type": "code",
   "execution_count": 136,
   "metadata": {},
   "outputs": [],
   "source": [
    "# Hacer funcion para retrasar numero de dias\n",
    "def retrasar_dias(tareas, dias):\n",
    "    tareas_retrasadas =  []\n",
    "    for i in range(0,len(tareas)):\n",
    "        tareas_retrasadas.append((tareas[i][0], tareas[i][1]+dias))\n",
    "    return tareas_retrasadas"
   ]
  },
  {
   "cell_type": "code",
   "execution_count": 154,
   "metadata": {},
   "outputs": [],
   "source": [
    "def retrasar():\n",
    "    raise Exception('PRoblemas en el paraiso!!!')"
   ]
  },
  {
   "cell_type": "code",
   "execution_count": 157,
   "metadata": {},
   "outputs": [
    {
     "name": "stdout",
     "output_type": "stream",
     "text": [
      "Ups, retraso!, replanifica! -> PRoblemas en el paraiso!!!\n"
     ]
    }
   ],
   "source": [
    "try:\n",
    "    retrasar()\n",
    "except Exception as ex:\n",
    "    print(\"Ups, retraso!, replanifica! -> \" + str(ex))"
   ]
  },
  {
   "cell_type": "code",
   "execution_count": 145,
   "metadata": {},
   "outputs": [],
   "source": [
    "tareas_tiempo = retrasar_dias(tareas_tiempo, 1)"
   ]
  },
  {
   "cell_type": "code",
   "execution_count": 158,
   "metadata": {},
   "outputs": [
    {
     "name": "stdout",
     "output_type": "stream",
     "text": [
      "('Tarea 0', 21)\n",
      "('Tarea 1', 21)\n",
      "('Tarea 2', 21)\n",
      "('Tarea 3', 21)\n",
      "('Tarea 4', 21)\n",
      "('Tarea 5', 21)\n",
      "('Tarea 6', 21)\n",
      "('Tarea 7', 21)\n",
      "('Tarea 8', 21)\n",
      "('Tarea 9', 21)\n"
     ]
    }
   ],
   "source": [
    "imprime(tareas_tiempo)"
   ]
  },
  {
   "cell_type": "code",
   "execution_count": 168,
   "metadata": {},
   "outputs": [],
   "source": [
    "def genera_nombres_tareas(n):\n",
    "    tareas = []\n",
    "    for i in range(0,n):\n",
    "        tareas.append(\"Tarea \" + str(i))\n",
    "    return tareas"
   ]
  },
  {
   "cell_type": "code",
   "execution_count": 230,
   "metadata": {},
   "outputs": [],
   "source": [
    "tareas_no_replanificables = set(genera_tareas(5))"
   ]
  },
  {
   "cell_type": "code",
   "execution_count": 234,
   "metadata": {},
   "outputs": [
    {
     "name": "stdout",
     "output_type": "stream",
     "text": [
      "('Tarea 3', 23)\n",
      "('Tarea 2', 23)\n",
      "('Tarea 4', 23)\n",
      "('Tarea 0', 23)\n",
      "('Tarea 1', 23)\n"
     ]
    }
   ],
   "source": [
    "imprime(tareas_no_replanificables)"
   ]
  },
  {
   "cell_type": "code",
   "execution_count": 225,
   "metadata": {},
   "outputs": [
    {
     "data": {
      "text/plain": [
       "True"
      ]
     },
     "execution_count": 225,
     "metadata": {},
     "output_type": "execute_result"
    }
   ],
   "source": [
    "\"Tarea 4\" in tareas_no_replanificables"
   ]
  },
  {
   "cell_type": "code",
   "execution_count": 248,
   "metadata": {},
   "outputs": [],
   "source": [
    "def nombres(tareas):\n",
    "    nombres = set()\n",
    "    for tarea in tareas:\n",
    "        nombres.add(tarea[0])\n",
    "    return nombres\n",
    "        "
   ]
  },
  {
   "cell_type": "code",
   "execution_count": 249,
   "metadata": {},
   "outputs": [
    {
     "name": "stdout",
     "output_type": "stream",
     "text": [
      "{'Tarea 3', 'Tarea 1', 'Tarea 0', 'Tarea 4', 'Tarea 2'}\n"
     ]
    }
   ],
   "source": [
    "print(nombres(tareas_no_replanificables))"
   ]
  },
  {
   "cell_type": "code",
   "execution_count": 252,
   "metadata": {},
   "outputs": [],
   "source": [
    "def es_planificable(tarea, tareas):\n",
    "    tareas_planificables = nombres(tareas)\n",
    "    return tarea in tareas_planificables"
   ]
  },
  {
   "cell_type": "code",
   "execution_count": 259,
   "metadata": {},
   "outputs": [
    {
     "data": {
      "text/plain": [
       "True"
      ]
     },
     "execution_count": 259,
     "metadata": {},
     "output_type": "execute_result"
    }
   ],
   "source": [
    "es_planificable(\"Tarea 3\", tareas_no_replanificables)"
   ]
  },
  {
   "cell_type": "code",
   "execution_count": 266,
   "metadata": {},
   "outputs": [],
   "source": [
    "# Hacer funcion para retrasar numero de dias\n",
    "def retrasar_dias(tareas, dias, tareas_no_replanificables):\n",
    "    tareas_retrasadas =  []\n",
    "    for i in range(0,len(tareas)):\n",
    "        tarea = tareas[i]\n",
    "        if es_planificable(tarea[0], tareas_no_replanificables):\n",
    "            tareas_retrasadas.append(tareas[i])\n",
    "        else:\n",
    "            tareas_retrasadas.append((tareas[i][0], tareas[i][1]+dias))\n",
    "    return tareas_retrasadas"
   ]
  },
  {
   "cell_type": "code",
   "execution_count": 268,
   "metadata": {},
   "outputs": [],
   "source": [
    "tareas_tiempo = retrasar_dias(tareas_tiempo, 2, tareas_no_replanificables)"
   ]
  },
  {
   "cell_type": "code",
   "execution_count": 269,
   "metadata": {},
   "outputs": [
    {
     "name": "stdout",
     "output_type": "stream",
     "text": [
      "('Tarea 0', 25)\n",
      "('Tarea 1', 25)\n",
      "('Tarea 2', 25)\n",
      "('Tarea 3', 25)\n",
      "('Tarea 4', 25)\n",
      "('Tarea 5', 31)\n",
      "('Tarea 6', 31)\n",
      "('Tarea 7', 31)\n",
      "('Tarea 8', 31)\n",
      "('Tarea 9', 31)\n"
     ]
    }
   ],
   "source": [
    "imprime(tareas_tiempo)"
   ]
  },
  {
   "cell_type": "code",
   "execution_count": 270,
   "metadata": {},
   "outputs": [
    {
     "name": "stdout",
     "output_type": "stream",
     "text": [
      "('Tarea 3', 23)\n",
      "('Tarea 2', 23)\n",
      "('Tarea 4', 23)\n",
      "('Tarea 0', 23)\n",
      "('Tarea 1', 23)\n"
     ]
    }
   ],
   "source": [
    "imprime(tareas_no_replanificables)"
   ]
  },
  {
   "cell_type": "code",
   "execution_count": 222,
   "metadata": {},
   "outputs": [
    {
     "data": {
      "text/plain": [
       "set"
      ]
     },
     "execution_count": 222,
     "metadata": {},
     "output_type": "execute_result"
    }
   ],
   "source": [
    "type(tareas_no_replanificables)"
   ]
  },
  {
   "cell_type": "code",
   "execution_count": 223,
   "metadata": {},
   "outputs": [
    {
     "data": {
      "text/plain": [
       "False"
      ]
     },
     "execution_count": 223,
     "metadata": {},
     "output_type": "execute_result"
    }
   ],
   "source": [
    "\"Tarea 4\" in tareas_no_replanificables"
   ]
  },
  {
   "cell_type": "code",
   "execution_count": 300,
   "metadata": {},
   "outputs": [],
   "source": [
    "diccionario = {\"DNI\": \"666F\", \n",
    "               \"Nombre\": \"Juan\",\n",
    "               \"Apellido\": \"Perez\",\n",
    "               \"Edad\": 26,\n",
    "               \"experiencia\": 3,\n",
    "               1: \"Si\",\n",
    "               2: \"No\",\n",
    "               \"especialidades\": ['reparto',\"cocina\"]\n",
    "              }"
   ]
  },
  {
   "cell_type": "code",
   "execution_count": 310,
   "metadata": {},
   "outputs": [
    {
     "data": {
      "text/plain": [
       "dict"
      ]
     },
     "execution_count": 310,
     "metadata": {},
     "output_type": "execute_result"
    }
   ],
   "source": [
    "type(diccionario)"
   ]
  },
  {
   "cell_type": "code",
   "execution_count": 276,
   "metadata": {},
   "outputs": [
    {
     "name": "stdout",
     "output_type": "stream",
     "text": [
      "{'DNI': '666F', 'Nombre': 'Juan', 'Apellido': 'Perez', 'Edad': 26, 'experiencia': 3, 1: 'Si', 2: 'No'}\n"
     ]
    }
   ],
   "source": [
    "print(diccionario)"
   ]
  },
  {
   "cell_type": "code",
   "execution_count": 273,
   "metadata": {},
   "outputs": [
    {
     "data": {
      "text/plain": [
       "'666F'"
      ]
     },
     "execution_count": 273,
     "metadata": {},
     "output_type": "execute_result"
    }
   ],
   "source": [
    "diccionario['dni']"
   ]
  },
  {
   "cell_type": "code",
   "execution_count": 280,
   "metadata": {},
   "outputs": [],
   "source": [
    "claves = diccionario.keys()"
   ]
  },
  {
   "cell_type": "code",
   "execution_count": 286,
   "metadata": {},
   "outputs": [],
   "source": [
    "valores = diccionario.values()"
   ]
  },
  {
   "cell_type": "code",
   "execution_count": 281,
   "metadata": {},
   "outputs": [
    {
     "data": {
      "text/plain": [
       "dict_keys"
      ]
     },
     "execution_count": 281,
     "metadata": {},
     "output_type": "execute_result"
    }
   ],
   "source": [
    "type(claves)"
   ]
  },
  {
   "cell_type": "code",
   "execution_count": 287,
   "metadata": {},
   "outputs": [
    {
     "data": {
      "text/plain": [
       "dict_values"
      ]
     },
     "execution_count": 287,
     "metadata": {},
     "output_type": "execute_result"
    }
   ],
   "source": [
    "type(valores)"
   ]
  },
  {
   "cell_type": "code",
   "execution_count": 284,
   "metadata": {},
   "outputs": [],
   "source": [
    "lista_claves = list(claves)"
   ]
  },
  {
   "cell_type": "code",
   "execution_count": 285,
   "metadata": {},
   "outputs": [
    {
     "data": {
      "text/plain": [
       "['DNI', 'Nombre', 'Apellido', 'Edad', 'experiencia', 1, 2]"
      ]
     },
     "execution_count": 285,
     "metadata": {},
     "output_type": "execute_result"
    }
   ],
   "source": [
    "lista_claves"
   ]
  },
  {
   "cell_type": "code",
   "execution_count": 288,
   "metadata": {},
   "outputs": [],
   "source": [
    "lista_valores = list(valores)"
   ]
  },
  {
   "cell_type": "code",
   "execution_count": 289,
   "metadata": {},
   "outputs": [
    {
     "data": {
      "text/plain": [
       "list"
      ]
     },
     "execution_count": 289,
     "metadata": {},
     "output_type": "execute_result"
    }
   ],
   "source": [
    "type(lista_valores)"
   ]
  },
  {
   "cell_type": "code",
   "execution_count": 290,
   "metadata": {},
   "outputs": [
    {
     "data": {
      "text/plain": [
       "['666F', 'Juan', 'Perez', 26, 3, 'Si', 'No']"
      ]
     },
     "execution_count": 290,
     "metadata": {},
     "output_type": "execute_result"
    }
   ],
   "source": [
    "lista_valores"
   ]
  },
  {
   "cell_type": "code",
   "execution_count": 294,
   "metadata": {},
   "outputs": [
    {
     "name": "stdout",
     "output_type": "stream",
     "text": [
      "DNI\n",
      "Nombre\n",
      "Apellido\n",
      "Edad\n",
      "experiencia\n",
      "1\n",
      "2\n"
     ]
    }
   ],
   "source": [
    "for item in diccionario:\n",
    "    print(item)"
   ]
  },
  {
   "cell_type": "code",
   "execution_count": 299,
   "metadata": {},
   "outputs": [
    {
     "name": "stdout",
     "output_type": "stream",
     "text": [
      "DNI -> 666F, Nombre -> Juan, Apellido -> Perez, Edad -> 26, experiencia -> 3, 1 -> Si, 2 -> No, "
     ]
    }
   ],
   "source": [
    "for key, value in diccionario.items():\n",
    "    print(key, value, sep=\" -> \", end=\", \")"
   ]
  },
  {
   "cell_type": "code",
   "execution_count": 308,
   "metadata": {},
   "outputs": [],
   "source": [
    "def show_specialities(operator):\n",
    "    for key, value in operator.items():\n",
    "        if type(value) == list and key == \"especialidades\":\n",
    "            for speciality in value:\n",
    "                print(speciality)"
   ]
  },
  {
   "cell_type": "code",
   "execution_count": 309,
   "metadata": {},
   "outputs": [
    {
     "name": "stdout",
     "output_type": "stream",
     "text": [
      "reparto\n",
      "cocina\n"
     ]
    }
   ],
   "source": [
    "show_specialities(diccionario)"
   ]
  },
  {
   "cell_type": "code",
   "execution_count": null,
   "metadata": {},
   "outputs": [],
   "source": [
    "## Crear una pequenya plantilla de operarios, asignarles unas tareas.\n",
    "var crea_operario()"
   ]
  },
  {
   "cell_type": "code",
   "execution_count": 311,
   "metadata": {},
   "outputs": [],
   "source": [
    "operarios = [{\"DNI\": \"666F\", \n",
    "               \"Nombre\": \"Fernando\",\n",
    "               \"Apellido\": \"Fernandez\",\n",
    "               \"Edad\": 26,\n",
    "               \"experiencia\": 6,\n",
    "               \"especialidades\": ['reparto',\"cocina\"],\n",
    "               \"tareas\": [('Tarea 2', 25), ('Tarea 3', 25)]\n",
    "              },\n",
    "             {\"DNI\": \"333C\", \n",
    "               \"Nombre\": \"Carlos\",\n",
    "               \"Apellido\": \"Cortes\",\n",
    "               \"Edad\": 23,\n",
    "               \"experiencia\": 3,\n",
    "               \"especialidades\": ['comer',\"dormir\"]\n",
    "              },\n",
    "             {\"DNI\": \"999J\", \n",
    "               \"Nombre\": \"Javier\",\n",
    "               \"Apellido\": \"Jimenez\",\n",
    "               \"Edad\": 29,\n",
    "               \"experiencia\": 9,\n",
    "               \"especialidades\": ['cantar',\"beber\"]\n",
    "              },\n",
    "             {\"DNI\": \"111L\", \n",
    "               \"Nombre\": \"Luis\",\n",
    "               \"Apellido\": \"Lopez\",\n",
    "               \"Edad\": 21,\n",
    "               \"experiencia\": 1,\n",
    "               \"especialidades\": ['llorar',\"ligar\"]\n",
    "              }\n",
    "            ]"
   ]
  },
  {
   "cell_type": "code",
   "execution_count": 312,
   "metadata": {},
   "outputs": [
    {
     "name": "stdout",
     "output_type": "stream",
     "text": [
      "[{'DNI': '666F', 'Nombre': 'Fernando', 'Apellido': 'Fernandez', 'Edad': 26, 'experiencia': 6, 'especialidades': ['reparto', 'cocina']}, {'DNI': '333C', 'Nombre': 'Carlos', 'Apellido': 'Cortes', 'Edad': 23, 'experiencia': 3, 'especialidades': ['comer', 'dormir']}, {'DNI': '999J', 'Nombre': 'Javier', 'Apellido': 'Jimenez', 'Edad': 29, 'experiencia': 9, 'especialidades': ['cantar', 'beber']}, {'DNI': '111L', 'Nombre': 'Luis', 'Apellido': 'Lopez', 'Edad': 21, 'experiencia': 1, 'especialidades': ['llorar', 'ligar']}]\n"
     ]
    }
   ],
   "source": [
    "print(operarios)"
   ]
  },
  {
   "cell_type": "code",
   "execution_count": 337,
   "metadata": {},
   "outputs": [],
   "source": [
    "def asigna_tareas(operarios, tareas):\n",
    "    i = 0\n",
    "    for tarea in tareas:\n",
    "        print(tarea[0] + \" -> \" + str(operarios[i]['Nombre']))\n",
    "        operarios[i][\"Tareas\"] = tarea\n",
    "        i = i+1\n",
    "        if i == len(operarios):\n",
    "            i = 0            "
   ]
  },
  {
   "cell_type": "code",
   "execution_count": 338,
   "metadata": {},
   "outputs": [
    {
     "name": "stdout",
     "output_type": "stream",
     "text": [
      "Tarea 0 -> Fernando\n",
      "Tarea 1 -> Carlos\n",
      "Tarea 2 -> Javier\n",
      "Tarea 3 -> Luis\n",
      "Tarea 4 -> Fernando\n",
      "Tarea 5 -> Carlos\n",
      "Tarea 6 -> Javier\n",
      "Tarea 7 -> Luis\n",
      "Tarea 8 -> Fernando\n",
      "Tarea 9 -> Carlos\n"
     ]
    }
   ],
   "source": [
    "asigna_tareas(operarios, tareas_tiempo)"
   ]
  },
  {
   "cell_type": "code",
   "execution_count": 339,
   "metadata": {},
   "outputs": [
    {
     "data": {
      "text/plain": [
       "[{'DNI': '666F',\n",
       "  'Nombre': 'Fernando',\n",
       "  'Apellido': 'Fernandez',\n",
       "  'Edad': 26,\n",
       "  'experiencia': 6,\n",
       "  'especialidades': ['reparto', 'cocina'],\n",
       "  'Tareas': ('Tarea 8', 31)},\n",
       " {'DNI': '333C',\n",
       "  'Nombre': 'Carlos',\n",
       "  'Apellido': 'Cortes',\n",
       "  'Edad': 23,\n",
       "  'experiencia': 3,\n",
       "  'especialidades': ['comer', 'dormir'],\n",
       "  'Tareas': ('Tarea 9', 31)},\n",
       " {'DNI': '999J',\n",
       "  'Nombre': 'Javier',\n",
       "  'Apellido': 'Jimenez',\n",
       "  'Edad': 29,\n",
       "  'experiencia': 9,\n",
       "  'especialidades': ['cantar', 'beber'],\n",
       "  'Tareas': ('Tarea 6', 31)},\n",
       " {'DNI': '111L',\n",
       "  'Nombre': 'Luis',\n",
       "  'Apellido': 'Lopez',\n",
       "  'Edad': 21,\n",
       "  'experiencia': 1,\n",
       "  'especialidades': ['llorar', 'ligar'],\n",
       "  'Tareas': ('Tarea 7', 31)}]"
      ]
     },
     "execution_count": 339,
     "metadata": {},
     "output_type": "execute_result"
    }
   ],
   "source": [
    "operarios"
   ]
  },
  {
   "cell_type": "code",
   "execution_count": 5,
   "metadata": {},
   "outputs": [],
   "source": [
    "def asignar_tarea(dni, task):\n",
    "    return (dni, task)"
   ]
  },
  {
   "cell_type": "code",
   "execution_count": 6,
   "metadata": {},
   "outputs": [],
   "source": [
    "import gestion_tareas as gest_t"
   ]
  },
  {
   "cell_type": "code",
   "execution_count": 7,
   "metadata": {},
   "outputs": [],
   "source": [
    "asignaciones = [\n",
    "    gest_t.asignar_tarea(\"333C\", \"Tarea 1\"),\n",
    "    gest_t.asignar_tarea(\"666F\", \"Tarea 2\"),\n",
    "    gest_t.asignar_tarea(\"999J\", \"Tarea 3\")\n",
    "]"
   ]
  },
  {
   "cell_type": "code",
   "execution_count": 353,
   "metadata": {},
   "outputs": [
    {
     "data": {
      "text/plain": [
       "[('333C', 'Tarea 1'), ('666F', 'Tarea 2'), ('999J', 'Tarea 3')]"
      ]
     },
     "execution_count": 353,
     "metadata": {},
     "output_type": "execute_result"
    }
   ],
   "source": [
    "asignaciones"
   ]
  },
  {
   "cell_type": "code",
   "execution_count": 8,
   "metadata": {},
   "outputs": [
    {
     "name": "stdout",
     "output_type": "stream",
     "text": [
      "Fin\n"
     ]
    }
   ],
   "source": [
    "try:\n",
    "    with open(\"tareas.dat\") as f_tareas:\n",
    "        asignaciones = []\n",
    "        for linea in f_tareas:\n",
    "            #print(linea)\n",
    "            dni, tarea = linea.rstrip().split(\",\")\n",
    "            #print (dni + \" -> \" + tarea)\n",
    "            asignaciones.append(gest_t.asignar_tarea(dni, tarea))\n",
    "except:\n",
    "    print(\"PRoblemas en el paraiso\")\n",
    "finally:\n",
    "    print(\"Fin\")"
   ]
  },
  {
   "cell_type": "code",
   "execution_count": 1,
   "metadata": {},
   "outputs": [
    {
     "ename": "NameError",
     "evalue": "name 'asignaciones' is not defined",
     "output_type": "error",
     "traceback": [
      "\u001b[0;31m---------------------------------------------------------------------------\u001b[0m",
      "\u001b[0;31mNameError\u001b[0m                                 Traceback (most recent call last)",
      "\u001b[0;32m<ipython-input-1-4b797c7dddc9>\u001b[0m in \u001b[0;36m<module>\u001b[0;34m\u001b[0m\n\u001b[0;32m----> 1\u001b[0;31m \u001b[0masignaciones\u001b[0m\u001b[0;34m\u001b[0m\u001b[0;34m\u001b[0m\u001b[0m\n\u001b[0m",
      "\u001b[0;31mNameError\u001b[0m: name 'asignaciones' is not defined"
     ]
    }
   ],
   "source": [
    "asignaciones"
   ]
  },
  {
   "cell_type": "code",
   "execution_count": null,
   "metadata": {},
   "outputs": [],
   "source": []
  }
 ],
 "metadata": {
  "kernelspec": {
   "display_name": "Python 3",
   "language": "python",
   "name": "python3"
  },
  "language_info": {
   "codemirror_mode": {
    "name": "ipython",
    "version": 3
   },
   "file_extension": ".py",
   "mimetype": "text/x-python",
   "name": "python",
   "nbconvert_exporter": "python",
   "pygments_lexer": "ipython3",
   "version": "3.7.4"
  }
 },
 "nbformat": 4,
 "nbformat_minor": 2
}
